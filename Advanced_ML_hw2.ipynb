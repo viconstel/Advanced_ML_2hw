{
 "cells": [
  {
   "cell_type": "markdown",
   "metadata": {},
   "source": [
    "## Елизаров Константин, MADE-DS-21"
   ]
  },
  {
   "cell_type": "markdown",
   "metadata": {},
   "source": [
    "Мы будем строить вероятностную рейтинг-систему для спортивного “Что? Где? Когда?” (ЧГК). <br><br>\n",
    "**Background:** в спортивном “Что? Где? Когда?” соревнующиеся команды отвечают на одни и те же вопросы. После минуты обсуждения команды записывают и сдают свои ответы на карточках; побеждает тот, кто ответил на большее число вопросов. Турнир обычно состоит из нескольких десятков вопросов (обычно 36 или 45, иногда 60, больше редко). Часто бывают синхронные турниры, когда на одни и те же вопросы отвечают команды на сотнях игровых площадок по всему миру, т.е. в одном турнире могут играть сотни, а то и тысячи команд. Соответственно, нам нужно:\n",
    "- построить рейтинг-лист, который способен нетривиально предсказывать результаты будущих турниров;\n",
    "- при этом, поскольку ЧГК — это хобби, и контрактов тут никаких нет, игроки постоянно переходят из команды в команду, сильный игрок может на один турнир сесть поиграть за другую команду и т.д.; поэтому единицей рейтинг-листа должна быть не команда, а отдельный игрок;\n",
    "- а что сильно упрощает задачу и переводит её в область домашних заданий на EM-алгоритм — это характер данных: начиная с какого-то момента, в базу результатов начали вносить все повопросные результаты команд, т.е. в данных будут записи вида “какая команда на какой вопрос правильно ответила”\n"
   ]
  },
  {
   "cell_type": "code",
   "execution_count": 1,
   "metadata": {
    "id": "iJhNEDPZBq6V"
   },
   "outputs": [],
   "source": [
    "import numpy as np\n",
    "import pandas as pd\n",
    "import matplotlib.pyplot as plt"
   ]
  },
  {
   "cell_type": "code",
   "execution_count": 2,
   "metadata": {
    "id": "D_TZaeh4Bq6c"
   },
   "outputs": [],
   "source": [
    "DATA_PATH = './chgk/'"
   ]
  },
  {
   "cell_type": "code",
   "execution_count": 3,
   "metadata": {
    "id": "5AWceUsFBq6c"
   },
   "outputs": [],
   "source": [
    "results = pd.read_pickle(DATA_PATH + 'results.pkl')\n",
    "cups = pd.read_pickle(DATA_PATH + 'tournaments.pkl')\n",
    "players = pd.read_pickle(DATA_PATH + 'players.pkl')"
   ]
  },
  {
   "cell_type": "markdown",
   "metadata": {},
   "source": [
    "## 1 Data"
   ]
  },
  {
   "cell_type": "markdown",
   "metadata": {},
   "source": [
    "Прочитайте и проанализируйте данные, выберите турниры, в которых есть данные о составах команд и повопросных результатах (поле mask в results.pkl). Для унификации предлагаю:\n",
    "- взять в тренировочный набор турниры с dateStart из 2019 года; \n",
    "- в тестовый — турниры с dateStart из 2020 года.\n"
   ]
  },
  {
   "cell_type": "markdown",
   "metadata": {},
   "source": [
    "Рассматриваются турниры по Что?Где?Когда? за 2019 год (train) и за 2020 год (test)"
   ]
  },
  {
   "cell_type": "code",
   "execution_count": 4,
   "metadata": {
    "id": "YgJ3VWRcBq6d"
   },
   "outputs": [],
   "source": [
    "train_date_cups, test_date_cups = [], []\n",
    "\n",
    "# Отбираем турниры за 2019 и 2020 год\n",
    "for cup in cups.values():\n",
    "    cup_date = pd.to_datetime(cup['dateStart'])\n",
    "    \n",
    "    if cup_date.year == 2019:\n",
    "        train_date_cups.append(cup)\n",
    "    elif cup_date.year == 2020:\n",
    "        test_date_cups.append(cup)\n",
    "\n",
    "train_cups, test_cups = [], []\n",
    "\n",
    "# Оставляем турниры с известными повопросными результатами и составами команд\n",
    "for cup in train_date_cups:\n",
    "    cup_id = cup['id']\n",
    "    summary = results[cup_id]\n",
    "    if summary:\n",
    "        item = summary[0]\n",
    "        mask = item.get('mask', None)\n",
    "        if mask is None:\n",
    "            continue\n",
    "        team = item.get('teamMembers', [])\n",
    "        if len(team) == 0:\n",
    "            continue\n",
    "        train_cups.append(cup)\n",
    "\n",
    "for cup in test_date_cups:\n",
    "    cup_id = cup['id']\n",
    "    summary = results[cup_id]\n",
    "    if summary:\n",
    "        item = summary[0]\n",
    "        mask = item.get('mask', None)\n",
    "        if mask is None:\n",
    "            continue\n",
    "        team = item.get('teamMembers', [])\n",
    "        if len(team) == 0:\n",
    "            continue\n",
    "        test_cups.append(cup)    \n"
   ]
  },
  {
   "cell_type": "markdown",
   "metadata": {},
   "source": [
    "Размеры тренировочной и тестовой выборок:"
   ]
  },
  {
   "cell_type": "code",
   "execution_count": 5,
   "metadata": {
    "colab": {
     "base_uri": "https://localhost:8080/"
    },
    "id": "UUYt2-CjBq6d",
    "outputId": "b2db544d-c037-4888-aea7-8be45e80f3fc"
   },
   "outputs": [
    {
     "data": {
      "text/plain": [
       "(674, 173)"
      ]
     },
     "execution_count": 5,
     "metadata": {},
     "output_type": "execute_result"
    }
   ],
   "source": [
    "len(train_cups), len(test_cups)"
   ]
  },
  {
   "cell_type": "markdown",
   "metadata": {
    "id": "nkKjGJkyDUXf"
   },
   "source": [
    "## 2 Baseline"
   ]
  },
  {
   "cell_type": "markdown",
   "metadata": {},
   "source": [
    "Постройте baseline-модель на основе линейной или логистической регрессии, которая будет обучать рейтинг-лист игроков. Замечания и подсказки:\n",
    "- повопросные результаты — это фактически результаты броска монетки, и их предсказание скорее всего имеет отношение к бинарной классификации;\n",
    "- в разных турнирах вопросы совсем разного уровня сложности, поэтому модель должна это учитывать; скорее всего, модель должна будет явно обучать не только силу каждого игрока, но и сложность каждого вопроса;\n",
    "- для baseline-модели можно забыть о командах и считать, что повопросные результаты команды просто относятся к каждому из её игроков.\n"
   ]
  },
  {
   "cell_type": "code",
   "execution_count": 6,
   "metadata": {
    "id": "1QprybDbcP0F"
   },
   "outputs": [],
   "source": [
    "import tqdm\n",
    "from scipy.sparse import hstack\n",
    "from sklearn.preprocessing import OneHotEncoder\n",
    "from sklearn.linear_model import LogisticRegression"
   ]
  },
  {
   "cell_type": "markdown",
   "metadata": {},
   "source": [
    "Будем использовать модель логистической регрессии, где каждый игрок рассматривается, как независимая единица. Повопросные ответы команды приписываются каждому ее члену и используются в качестве целевых переменных модели (бинарная классификация: ответили на вопрос (1) или нет (0)). В качестве признаков используются ID игроков и вопросов, поэтому веса обученной модели можно рассматривать как силу каждого игрока и сложность каждого вопроса. Данная оценка сил игроков в дальнейшем используется для построения рейтинг-системы игроков."
   ]
  },
  {
   "cell_type": "code",
   "execution_count": 7,
   "metadata": {
    "id": "K7Thwe9eBq6e"
   },
   "outputs": [],
   "source": [
    "# Извлечение признаков ID игрока - ID вопроса - Ответил на вопрос (да - 1 / нет - 0)\n",
    "def feature_extraction(cups):\n",
    "    ID = 1\n",
    "    player_ids, target = [], []\n",
    "    question_ids = []\n",
    "    for cup in tqdm.tqdm(cups):\n",
    "        cup_id = cup['id']\n",
    "        max_len = sum(cup['questionQty'].values()) if cup_id != 6090 else 435\n",
    "        summary = results[cup_id]\n",
    "\n",
    "        comp_answers = []\n",
    "        members = []\n",
    "        for i, team in enumerate(summary):\n",
    "            mask = team['mask']\n",
    "            plrs = [p['player']['id'] for p in team['teamMembers']]\n",
    "            if not mask or not plrs:\n",
    "                continue\n",
    "            \n",
    "#         Выкидываем из выборки маски со знаком \"?\"\n",
    "            if len(mask) < max_len or '?' in mask:\n",
    "                continue\n",
    "      \n",
    "            members.append(plrs)\n",
    "#         Выкидываем раунды, где вопросы не были засчитаны \"Х\"\n",
    "            mask = mask.replace('X', '')\n",
    "            comp_answers.append(np.array(list(map(int, list(mask)))))\n",
    "      \n",
    "        comp_answers = np.array(comp_answers)\n",
    "        ids_range = np.arange(ID, ID + comp_answers.shape[1])\n",
    "\n",
    "        for j in range(len(members)):\n",
    "            for person in members[j]:\n",
    "                person_vec = (person * np.ones(comp_answers.shape[1])).astype(int)\n",
    "                for k, item in enumerate(person_vec):\n",
    "                    player_ids.append(item)\n",
    "                    question_ids.append(ids_range[k])\n",
    "                    target.append(comp_answers[j][k])\n",
    "\n",
    "        ID += comp_answers.shape[1]\n",
    "\n",
    "    res = pd.DataFrame({'id': np.array(player_ids), 'question_id': np.array(question_ids),\n",
    "                        'target': np.array(target)})\n",
    "    return res"
   ]
  },
  {
   "cell_type": "code",
   "execution_count": 8,
   "metadata": {
    "colab": {
     "base_uri": "https://localhost:8080/"
    },
    "id": "7zkcdzrGHKrc",
    "outputId": "d6a53c4f-aa23-4240-a281-cd095a83f0ce"
   },
   "outputs": [
    {
     "name": "stderr",
     "output_type": "stream",
     "text": [
      "100%|██████████| 674/674 [00:16<00:00, 41.12it/s] \n"
     ]
    }
   ],
   "source": [
    "train_df = feature_extraction(train_cups)"
   ]
  },
  {
   "cell_type": "code",
   "execution_count": 9,
   "metadata": {},
   "outputs": [
    {
     "data": {
      "text/plain": [
       "((57395,), (33233,))"
      ]
     },
     "execution_count": 9,
     "metadata": {},
     "output_type": "execute_result"
    }
   ],
   "source": [
    "train_df.id.unique().shape, train_df.question_id.unique().shape"
   ]
  },
  {
   "cell_type": "code",
   "execution_count": 10,
   "metadata": {
    "id": "0DirabBaAZoo"
   },
   "outputs": [],
   "source": [
    "# Используем OneHot - вектора по ID игроков и вопросов в качестве признаков для обучения модели\n",
    "ohe1 = OneHotEncoder()\n",
    "vec1 = ohe1.fit_transform(train_df.id.to_numpy().reshape(-1, 1))\n",
    "\n",
    "ohe2 = OneHotEncoder()\n",
    "vec2 = ohe2.fit_transform(train_df.question_id.to_numpy().reshape(-1, 1))\n",
    "\n",
    "X_train = hstack([vec1, vec2])\n",
    "y_train = train_df[['target']]"
   ]
  },
  {
   "cell_type": "code",
   "execution_count": 11,
   "metadata": {},
   "outputs": [
    {
     "data": {
      "text/plain": [
       "((17736793, 90628), (17736793, 1))"
      ]
     },
     "execution_count": 11,
     "metadata": {},
     "output_type": "execute_result"
    }
   ],
   "source": [
    "X_train.shape, y_train.shape"
   ]
  },
  {
   "cell_type": "code",
   "execution_count": 12,
   "metadata": {
    "colab": {
     "base_uri": "https://localhost:8080/",
     "height": 419
    },
    "id": "mVCQlm_jAzhG",
    "outputId": "a7e0a6bb-945c-4de3-b919-46b024f8e638"
   },
   "outputs": [
    {
     "data": {
      "text/html": [
       "<div>\n",
       "<style scoped>\n",
       "    .dataframe tbody tr th:only-of-type {\n",
       "        vertical-align: middle;\n",
       "    }\n",
       "\n",
       "    .dataframe tbody tr th {\n",
       "        vertical-align: top;\n",
       "    }\n",
       "\n",
       "    .dataframe thead th {\n",
       "        text-align: right;\n",
       "    }\n",
       "</style>\n",
       "<table border=\"1\" class=\"dataframe\">\n",
       "  <thead>\n",
       "    <tr style=\"text-align: right;\">\n",
       "      <th></th>\n",
       "      <th>id</th>\n",
       "      <th>question_id</th>\n",
       "      <th>target</th>\n",
       "    </tr>\n",
       "  </thead>\n",
       "  <tbody>\n",
       "    <tr>\n",
       "      <th>0</th>\n",
       "      <td>6212</td>\n",
       "      <td>1</td>\n",
       "      <td>1</td>\n",
       "    </tr>\n",
       "    <tr>\n",
       "      <th>1</th>\n",
       "      <td>6212</td>\n",
       "      <td>2</td>\n",
       "      <td>1</td>\n",
       "    </tr>\n",
       "    <tr>\n",
       "      <th>2</th>\n",
       "      <td>6212</td>\n",
       "      <td>3</td>\n",
       "      <td>1</td>\n",
       "    </tr>\n",
       "    <tr>\n",
       "      <th>3</th>\n",
       "      <td>6212</td>\n",
       "      <td>4</td>\n",
       "      <td>1</td>\n",
       "    </tr>\n",
       "    <tr>\n",
       "      <th>4</th>\n",
       "      <td>6212</td>\n",
       "      <td>5</td>\n",
       "      <td>1</td>\n",
       "    </tr>\n",
       "    <tr>\n",
       "      <th>...</th>\n",
       "      <td>...</td>\n",
       "      <td>...</td>\n",
       "      <td>...</td>\n",
       "    </tr>\n",
       "    <tr>\n",
       "      <th>17736788</th>\n",
       "      <td>210786</td>\n",
       "      <td>33229</td>\n",
       "      <td>0</td>\n",
       "    </tr>\n",
       "    <tr>\n",
       "      <th>17736789</th>\n",
       "      <td>210786</td>\n",
       "      <td>33230</td>\n",
       "      <td>0</td>\n",
       "    </tr>\n",
       "    <tr>\n",
       "      <th>17736790</th>\n",
       "      <td>210786</td>\n",
       "      <td>33231</td>\n",
       "      <td>0</td>\n",
       "    </tr>\n",
       "    <tr>\n",
       "      <th>17736791</th>\n",
       "      <td>210786</td>\n",
       "      <td>33232</td>\n",
       "      <td>0</td>\n",
       "    </tr>\n",
       "    <tr>\n",
       "      <th>17736792</th>\n",
       "      <td>210786</td>\n",
       "      <td>33233</td>\n",
       "      <td>0</td>\n",
       "    </tr>\n",
       "  </tbody>\n",
       "</table>\n",
       "<p>17736793 rows × 3 columns</p>\n",
       "</div>"
      ],
      "text/plain": [
       "              id  question_id  target\n",
       "0           6212            1       1\n",
       "1           6212            2       1\n",
       "2           6212            3       1\n",
       "3           6212            4       1\n",
       "4           6212            5       1\n",
       "...          ...          ...     ...\n",
       "17736788  210786        33229       0\n",
       "17736789  210786        33230       0\n",
       "17736790  210786        33231       0\n",
       "17736791  210786        33232       0\n",
       "17736792  210786        33233       0\n",
       "\n",
       "[17736793 rows x 3 columns]"
      ]
     },
     "execution_count": 12,
     "metadata": {},
     "output_type": "execute_result"
    }
   ],
   "source": [
    "train_df"
   ]
  },
  {
   "cell_type": "code",
   "execution_count": 13,
   "metadata": {
    "colab": {
     "base_uri": "https://localhost:8080/"
    },
    "id": "UqjQwnKdBq6g",
    "outputId": "1743a1bf-eda2-478a-b065-ec183ea133f6"
   },
   "outputs": [
    {
     "name": "stderr",
     "output_type": "stream",
     "text": [
      "/Users/viconstel/opt/anaconda3/lib/python3.8/site-packages/sklearn/utils/validation.py:73: DataConversionWarning: A column-vector y was passed when a 1d array was expected. Please change the shape of y to (n_samples, ), for example using ravel().\n",
      "  return f(**kwargs)\n",
      "/Users/viconstel/opt/anaconda3/lib/python3.8/site-packages/sklearn/linear_model/_logistic.py:762: ConvergenceWarning: lbfgs failed to converge (status=1):\n",
      "STOP: TOTAL NO. of ITERATIONS REACHED LIMIT.\n",
      "\n",
      "Increase the number of iterations (max_iter) or scale the data as shown in:\n",
      "    https://scikit-learn.org/stable/modules/preprocessing.html\n",
      "Please also refer to the documentation for alternative solver options:\n",
      "    https://scikit-learn.org/stable/modules/linear_model.html#logistic-regression\n",
      "  n_iter_i = _check_optimize_result(\n"
     ]
    },
    {
     "data": {
      "text/plain": [
       "LogisticRegression()"
      ]
     },
     "execution_count": 13,
     "metadata": {},
     "output_type": "execute_result"
    }
   ],
   "source": [
    "# Обучение модели логистической регрессии\n",
    "model = LogisticRegression()\n",
    "model.fit(X_train, y_train)"
   ]
  },
  {
   "cell_type": "code",
   "execution_count": 14,
   "metadata": {},
   "outputs": [
    {
     "data": {
      "text/plain": [
       "(1, 90628)"
      ]
     },
     "execution_count": 14,
     "metadata": {},
     "output_type": "execute_result"
    }
   ],
   "source": [
    "model.coef_.shape"
   ]
  },
  {
   "cell_type": "code",
   "execution_count": 15,
   "metadata": {},
   "outputs": [
    {
     "data": {
      "text/html": [
       "<div>\n",
       "<style scoped>\n",
       "    .dataframe tbody tr th:only-of-type {\n",
       "        vertical-align: middle;\n",
       "    }\n",
       "\n",
       "    .dataframe tbody tr th {\n",
       "        vertical-align: top;\n",
       "    }\n",
       "\n",
       "    .dataframe thead th {\n",
       "        text-align: right;\n",
       "    }\n",
       "</style>\n",
       "<table border=\"1\" class=\"dataframe\">\n",
       "  <thead>\n",
       "    <tr style=\"text-align: right;\">\n",
       "      <th></th>\n",
       "      <th>id</th>\n",
       "      <th>score</th>\n",
       "    </tr>\n",
       "  </thead>\n",
       "  <tbody>\n",
       "    <tr>\n",
       "      <th>3861</th>\n",
       "      <td>27403</td>\n",
       "      <td>3.783695</td>\n",
       "    </tr>\n",
       "    <tr>\n",
       "      <th>4050</th>\n",
       "      <td>28751</td>\n",
       "      <td>3.679761</td>\n",
       "    </tr>\n",
       "    <tr>\n",
       "      <th>604</th>\n",
       "      <td>4270</td>\n",
       "      <td>3.630357</td>\n",
       "    </tr>\n",
       "    <tr>\n",
       "      <th>3933</th>\n",
       "      <td>27822</td>\n",
       "      <td>3.605715</td>\n",
       "    </tr>\n",
       "    <tr>\n",
       "      <th>4238</th>\n",
       "      <td>30152</td>\n",
       "      <td>3.500463</td>\n",
       "    </tr>\n",
       "  </tbody>\n",
       "</table>\n",
       "</div>"
      ],
      "text/plain": [
       "         id     score\n",
       "3861  27403  3.783695\n",
       "4050  28751  3.679761\n",
       "604    4270  3.630357\n",
       "3933  27822  3.605715\n",
       "4238  30152  3.500463"
      ]
     },
     "execution_count": 15,
     "metadata": {},
     "output_type": "execute_result"
    }
   ],
   "source": [
    "# Используем веса модели в качестве рейтинга игроков\n",
    "rank = pd.DataFrame({'id': ohe1.categories_[0], 'score': model.coef_[0][:len(ohe1.categories_[0])]})\n",
    "rank = rank.sort_values('score', ascending=False)\n",
    "rank.head()"
   ]
  },
  {
   "cell_type": "code",
   "execution_count": 16,
   "metadata": {},
   "outputs": [],
   "source": [
    "def id_to_name(person_id):\n",
    "    info = players[person_id]\n",
    "    fio = info['surname'], info['name'], info['patronymic']\n",
    "    return ' '.join(fio)"
   ]
  },
  {
   "cell_type": "code",
   "execution_count": 17,
   "metadata": {},
   "outputs": [
    {
     "data": {
      "text/html": [
       "<div>\n",
       "<style scoped>\n",
       "    .dataframe tbody tr th:only-of-type {\n",
       "        vertical-align: middle;\n",
       "    }\n",
       "\n",
       "    .dataframe tbody tr th {\n",
       "        vertical-align: top;\n",
       "    }\n",
       "\n",
       "    .dataframe thead th {\n",
       "        text-align: right;\n",
       "    }\n",
       "</style>\n",
       "<table border=\"1\" class=\"dataframe\">\n",
       "  <thead>\n",
       "    <tr style=\"text-align: right;\">\n",
       "      <th></th>\n",
       "      <th>id</th>\n",
       "      <th>player</th>\n",
       "      <th>score</th>\n",
       "    </tr>\n",
       "  </thead>\n",
       "  <tbody>\n",
       "    <tr>\n",
       "      <th>0</th>\n",
       "      <td>27403</td>\n",
       "      <td>Руссо Максим Михайлович</td>\n",
       "      <td>3.783695</td>\n",
       "    </tr>\n",
       "    <tr>\n",
       "      <th>1</th>\n",
       "      <td>28751</td>\n",
       "      <td>Семушин Иван Николаевич</td>\n",
       "      <td>3.679761</td>\n",
       "    </tr>\n",
       "    <tr>\n",
       "      <th>2</th>\n",
       "      <td>4270</td>\n",
       "      <td>Брутер Александра Владимировна</td>\n",
       "      <td>3.630357</td>\n",
       "    </tr>\n",
       "    <tr>\n",
       "      <th>3</th>\n",
       "      <td>27822</td>\n",
       "      <td>Савченков Михаил Владимирович</td>\n",
       "      <td>3.605715</td>\n",
       "    </tr>\n",
       "    <tr>\n",
       "      <th>4</th>\n",
       "      <td>30152</td>\n",
       "      <td>Сорожкин Артём Сергеевич</td>\n",
       "      <td>3.500463</td>\n",
       "    </tr>\n",
       "    <tr>\n",
       "      <th>5</th>\n",
       "      <td>30270</td>\n",
       "      <td>Спешков Сергей Леонидович</td>\n",
       "      <td>3.463432</td>\n",
       "    </tr>\n",
       "    <tr>\n",
       "      <th>6</th>\n",
       "      <td>20691</td>\n",
       "      <td>Мереминский Станислав Григорьевич</td>\n",
       "      <td>3.419919</td>\n",
       "    </tr>\n",
       "    <tr>\n",
       "      <th>7</th>\n",
       "      <td>18036</td>\n",
       "      <td>Левандовский Михаил Ильич</td>\n",
       "      <td>3.378866</td>\n",
       "    </tr>\n",
       "    <tr>\n",
       "      <th>8</th>\n",
       "      <td>87637</td>\n",
       "      <td>Саксонов Антон Владимирович</td>\n",
       "      <td>3.262783</td>\n",
       "    </tr>\n",
       "    <tr>\n",
       "      <th>9</th>\n",
       "      <td>26089</td>\n",
       "      <td>Прокофьева Ирина Сергеевна</td>\n",
       "      <td>3.258455</td>\n",
       "    </tr>\n",
       "    <tr>\n",
       "      <th>10</th>\n",
       "      <td>27622</td>\n",
       "      <td>Рябых Николай Георгиевич</td>\n",
       "      <td>3.258314</td>\n",
       "    </tr>\n",
       "    <tr>\n",
       "      <th>11</th>\n",
       "      <td>34328</td>\n",
       "      <td>Царёв Михаил Сергеевич</td>\n",
       "      <td>3.252057</td>\n",
       "    </tr>\n",
       "    <tr>\n",
       "      <th>12</th>\n",
       "      <td>74001</td>\n",
       "      <td>Мокин Игорь Викторович</td>\n",
       "      <td>3.251498</td>\n",
       "    </tr>\n",
       "    <tr>\n",
       "      <th>13</th>\n",
       "      <td>22935</td>\n",
       "      <td>Новиков Илья Сергеевич</td>\n",
       "      <td>3.244841</td>\n",
       "    </tr>\n",
       "    <tr>\n",
       "      <th>14</th>\n",
       "      <td>30260</td>\n",
       "      <td>Спектор Евгений Павлович</td>\n",
       "      <td>3.226023</td>\n",
       "    </tr>\n",
       "    <tr>\n",
       "      <th>15</th>\n",
       "      <td>13689</td>\n",
       "      <td>Карякин Дмитрий Александрович</td>\n",
       "      <td>3.221245</td>\n",
       "    </tr>\n",
       "    <tr>\n",
       "      <th>16</th>\n",
       "      <td>21698</td>\n",
       "      <td>Мосягин Александр Владимирович</td>\n",
       "      <td>3.211747</td>\n",
       "    </tr>\n",
       "    <tr>\n",
       "      <th>17</th>\n",
       "      <td>25757</td>\n",
       "      <td>Летюхина Мария Алексеевна</td>\n",
       "      <td>3.200399</td>\n",
       "    </tr>\n",
       "    <tr>\n",
       "      <th>18</th>\n",
       "      <td>222188</td>\n",
       "      <td>Гринко Арина</td>\n",
       "      <td>3.197093</td>\n",
       "    </tr>\n",
       "    <tr>\n",
       "      <th>19</th>\n",
       "      <td>19915</td>\n",
       "      <td>Марков Александр Валерьевич</td>\n",
       "      <td>3.191213</td>\n",
       "    </tr>\n",
       "    <tr>\n",
       "      <th>20</th>\n",
       "      <td>18194</td>\n",
       "      <td>Кленницкая Мария Владимировна</td>\n",
       "      <td>3.190943</td>\n",
       "    </tr>\n",
       "    <tr>\n",
       "      <th>21</th>\n",
       "      <td>24127</td>\n",
       "      <td>Паншин Денис Евгеньевич</td>\n",
       "      <td>3.185119</td>\n",
       "    </tr>\n",
       "    <tr>\n",
       "      <th>22</th>\n",
       "      <td>22799</td>\n",
       "      <td>Николенко Сергей Игоревич</td>\n",
       "      <td>3.180239</td>\n",
       "    </tr>\n",
       "    <tr>\n",
       "      <th>23</th>\n",
       "      <td>1585</td>\n",
       "      <td>Архангельская Юлия Сергеевна</td>\n",
       "      <td>3.164480</td>\n",
       "    </tr>\n",
       "    <tr>\n",
       "      <th>24</th>\n",
       "      <td>24384</td>\n",
       "      <td>Пашковский Евгений Александрович</td>\n",
       "      <td>3.162483</td>\n",
       "    </tr>\n",
       "    <tr>\n",
       "      <th>25</th>\n",
       "      <td>216863</td>\n",
       "      <td>Гаврилов Глеб Юрьевич</td>\n",
       "      <td>3.153279</td>\n",
       "    </tr>\n",
       "    <tr>\n",
       "      <th>26</th>\n",
       "      <td>34846</td>\n",
       "      <td>Чернин Антон Анатольевич</td>\n",
       "      <td>3.151255</td>\n",
       "    </tr>\n",
       "    <tr>\n",
       "      <th>27</th>\n",
       "      <td>16837</td>\n",
       "      <td>Кудряшова Наталья Алексеевна</td>\n",
       "      <td>3.147619</td>\n",
       "    </tr>\n",
       "    <tr>\n",
       "      <th>28</th>\n",
       "      <td>3843</td>\n",
       "      <td>Бомешко Светлана Борисовна</td>\n",
       "      <td>3.144715</td>\n",
       "    </tr>\n",
       "    <tr>\n",
       "      <th>29</th>\n",
       "      <td>74382</td>\n",
       "      <td>Новосёлов Михаил Андреевич</td>\n",
       "      <td>3.140734</td>\n",
       "    </tr>\n",
       "  </tbody>\n",
       "</table>\n",
       "</div>"
      ],
      "text/plain": [
       "        id                             player     score\n",
       "0    27403            Руссо Максим Михайлович  3.783695\n",
       "1    28751            Семушин Иван Николаевич  3.679761\n",
       "2     4270     Брутер Александра Владимировна  3.630357\n",
       "3    27822      Савченков Михаил Владимирович  3.605715\n",
       "4    30152           Сорожкин Артём Сергеевич  3.500463\n",
       "5    30270          Спешков Сергей Леонидович  3.463432\n",
       "6    20691  Мереминский Станислав Григорьевич  3.419919\n",
       "7    18036          Левандовский Михаил Ильич  3.378866\n",
       "8    87637        Саксонов Антон Владимирович  3.262783\n",
       "9    26089         Прокофьева Ирина Сергеевна  3.258455\n",
       "10   27622           Рябых Николай Георгиевич  3.258314\n",
       "11   34328             Царёв Михаил Сергеевич  3.252057\n",
       "12   74001             Мокин Игорь Викторович  3.251498\n",
       "13   22935             Новиков Илья Сергеевич  3.244841\n",
       "14   30260           Спектор Евгений Павлович  3.226023\n",
       "15   13689      Карякин Дмитрий Александрович  3.221245\n",
       "16   21698     Мосягин Александр Владимирович  3.211747\n",
       "17   25757          Летюхина Мария Алексеевна  3.200399\n",
       "18  222188                      Гринко Арина   3.197093\n",
       "19   19915        Марков Александр Валерьевич  3.191213\n",
       "20   18194      Кленницкая Мария Владимировна  3.190943\n",
       "21   24127            Паншин Денис Евгеньевич  3.185119\n",
       "22   22799          Николенко Сергей Игоревич  3.180239\n",
       "23    1585       Архангельская Юлия Сергеевна  3.164480\n",
       "24   24384   Пашковский Евгений Александрович  3.162483\n",
       "25  216863              Гаврилов Глеб Юрьевич  3.153279\n",
       "26   34846           Чернин Антон Анатольевич  3.151255\n",
       "27   16837       Кудряшова Наталья Алексеевна  3.147619\n",
       "28    3843         Бомешко Светлана Борисовна  3.144715\n",
       "29   74382         Новосёлов Михаил Андреевич  3.140734"
      ]
     },
     "execution_count": 17,
     "metadata": {},
     "output_type": "execute_result"
    }
   ],
   "source": [
    "# Идентификация игроков по их ID\n",
    "rank['player'] = rank.id.apply(id_to_name)\n",
    "rank = rank.reindex(columns=['id', 'player', 'score'])\n",
    "rank.reset_index(inplace=True, drop=True)\n",
    "rank.head(30)"
   ]
  },
  {
   "cell_type": "markdown",
   "metadata": {},
   "source": [
    "У baseline-модели логистической регрессии получилось довольно неплохое качество, опираясь на текущий рейтинг:\n",
    "[chgk_rating](https://rating.chgk.info/players.php)"
   ]
  },
  {
   "cell_type": "markdown",
   "metadata": {
    "id": "-mxE1mZd-qOC"
   },
   "source": [
    "## 3 Spearman and Kendall rank correlation coefficients"
   ]
  },
  {
   "cell_type": "markdown",
   "metadata": {},
   "source": [
    "Качество рейтинг-системы оценивается качеством предсказаний результатов турниров. Но сами повопросные результаты наши модели предсказывать вряд ли смогут, ведь неизвестно, насколько сложными окажутся вопросы в будущих турнирах; да и не нужны эти предсказания сами по себе. Поэтому:\n",
    "- предложите способ предсказать результаты нового турнира с известными составами, но неизвестными вопросами, в виде ранжирования команд;\n",
    "- в качестве метрики качества на тестовом наборе давайте считать ранговые корреляции Спирмена и Кендалла (их можно взять в пакете scipy) между реальным ранжированием в результатах турнира и предсказанным моделью, усреднённые по тестовому множеству турниров.\n"
   ]
  },
  {
   "cell_type": "markdown",
   "metadata": {},
   "source": [
    "Для предсказания результатов нового турнира с известными составами, но неизвестными вопросами, в виде ранжирования команд будем использовать рейтинг команд, рассчитанный как среднее по рейтингам их членов."
   ]
  },
  {
   "cell_type": "markdown",
   "metadata": {},
   "source": [
    "В качестве метрики качества на тестовом наборе будем считать ранговые корреляции Спирмена и Кендалла между реальным ранжированием в результатах турнира и предсказанным моделью, усреднённые по тестовому множеству турниров за 2020 год."
   ]
  },
  {
   "cell_type": "code",
   "execution_count": 18,
   "metadata": {
    "id": "5eSwogvKfFzo"
   },
   "outputs": [],
   "source": [
    "from scipy.stats import spearmanr, kendalltau"
   ]
  },
  {
   "cell_type": "code",
   "execution_count": 27,
   "metadata": {
    "colab": {
     "base_uri": "https://localhost:8080/"
    },
    "id": "232yFANX_Qml",
    "outputId": "a8a6a7a7-88f8-41e0-c861-2c38d671e0a5"
   },
   "outputs": [
    {
     "name": "stderr",
     "output_type": "stream",
     "text": [
      "/Users/viconstel/opt/anaconda3/lib/python3.8/site-packages/numpy/core/fromnumeric.py:3334: RuntimeWarning: Mean of empty slice.\n",
      "  return _methods._mean(a, axis=axis, dtype=dtype,\n",
      "/Users/viconstel/opt/anaconda3/lib/python3.8/site-packages/numpy/core/_methods.py:161: RuntimeWarning: invalid value encountered in double_scalars\n",
      "  ret = ret.dtype.type(ret / rcount)\n"
     ]
    },
    {
     "name": "stdout",
     "output_type": "stream",
     "text": [
      "Средний коэффициент ранговой корреляции Спирмена на тестовом множестве: 0.7570849392695089\n",
      "Средний коэффициент ранговой корреляции Кендалла на тестовом множестве: 0.6017131515489564\n"
     ]
    }
   ],
   "source": [
    "spearman, kendall = [], []\n",
    "rank_ids = rank.id.to_numpy()\n",
    "\n",
    "for cup in test_cups:\n",
    "    cup_id = cup['id']\n",
    "    summary = results[cup_id]\n",
    "    exact_rank, preds_rank = [], []\n",
    "    if len(summary) < 2:\n",
    "        continue\n",
    "        \n",
    "    for team in summary:\n",
    "        team_id = team['team']['id']\n",
    "        exact_rank.append((team_id, team['position']))\n",
    "        members_ids = [p['player']['id'] for p in team['teamMembers']]\n",
    "        members_rank = [rank[rank.id == i].score.values[0] if i in rank_ids else 0 for i in members_ids]\n",
    "        preds_rank.append((team_id, np.mean(members_rank)))\n",
    "  \n",
    "    preds_rank = sorted(preds_rank, key=lambda x: x[1], reverse=True)\n",
    "    preds_places = []\n",
    "    for i, _ in exact_rank:\n",
    "        for index, item in enumerate(preds_rank):\n",
    "            if i == item[0]:\n",
    "                preds_places.append(index + 1)\n",
    "                \n",
    "    exact_rank = [k[1] for k in exact_rank]\n",
    "    spearman.append(spearmanr(exact_rank, preds_places)[0])\n",
    "    kendall.append(kendalltau(exact_rank, preds_places)[0])\n",
    "    \n",
    "print(f'Средний коэффициент ранговой корреляции Спирмена на тестовом множестве: {np.mean(spearman)}')\n",
    "print(f'Средний коэффициент ранговой корреляции Кендалла на тестовом множестве: {np.mean(kendall)}')"
   ]
  },
  {
   "cell_type": "code",
   "execution_count": null,
   "metadata": {
    "id": "NBaNZVgBvIbd"
   },
   "outputs": [],
   "source": []
  },
  {
   "cell_type": "code",
   "execution_count": null,
   "metadata": {},
   "outputs": [],
   "source": []
  },
  {
   "cell_type": "code",
   "execution_count": null,
   "metadata": {
    "id": "6WT5gW7gvIe0"
   },
   "outputs": [],
   "source": []
  },
  {
   "cell_type": "code",
   "execution_count": null,
   "metadata": {
    "id": "WDHy1_q8vIiZ"
   },
   "outputs": [],
   "source": []
  },
  {
   "cell_type": "code",
   "execution_count": null,
   "metadata": {
    "id": "Oh5VO4WvvIlc"
   },
   "outputs": [],
   "source": []
  },
  {
   "cell_type": "code",
   "execution_count": null,
   "metadata": {
    "id": "sfHxfAUgvIo2"
   },
   "outputs": [],
   "source": []
  },
  {
   "cell_type": "code",
   "execution_count": null,
   "metadata": {
    "id": "oAkgNV-rvIr3"
   },
   "outputs": [],
   "source": []
  },
  {
   "cell_type": "code",
   "execution_count": null,
   "metadata": {
    "id": "EX7A3s-bvIvM"
   },
   "outputs": [],
   "source": []
  },
  {
   "cell_type": "code",
   "execution_count": null,
   "metadata": {
    "id": "_zoJOPE4vIyA"
   },
   "outputs": [],
   "source": []
  }
 ],
 "metadata": {
  "colab": {
   "collapsed_sections": [],
   "name": "Advanced_ML_hw2.ipynb",
   "provenance": []
  },
  "kernelspec": {
   "display_name": "Python 3",
   "language": "python",
   "name": "python3"
  },
  "language_info": {
   "codemirror_mode": {
    "name": "ipython",
    "version": 3
   },
   "file_extension": ".py",
   "mimetype": "text/x-python",
   "name": "python",
   "nbconvert_exporter": "python",
   "pygments_lexer": "ipython3",
   "version": "3.7.3"
  }
 },
 "nbformat": 4,
 "nbformat_minor": 1
}
